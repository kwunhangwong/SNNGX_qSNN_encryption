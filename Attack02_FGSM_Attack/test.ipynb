{
 "cells": [
  {
   "cell_type": "code",
   "execution_count": 1,
   "metadata": {},
   "outputs": [
    {
     "name": "stdout",
     "output_type": "stream",
     "text": [
      "[3, 4, 5, 6, 4, 5, 6, 7, 5, 6, 7, 8, 6, 7, 8, 9, 7, 8, 9, 10, 8, 9, 10, 11, 9, 10, 11, 12, 10, 11, 12, 13, 11, 12, 13, 14, 12, 13, 14, 15, 13, 14, 15, 16, 14, 15, 16, 17, 15, 16, 17, 18, 16, 17, 18, 19, 17, 18, 19, 20, 18, 19, 20, 21, 19, 20, 21, 22, 20, 21, 22, 23]\n"
     ]
    }
   ],
   "source": [
    "def generate_sequence(start, end):\n",
    "    sequence = []\n",
    "    for i in range(start, end+1):\n",
    "        sequence.extend(range(i, i+4))\n",
    "    return sequence\n",
    "\n",
    "start = 3\n",
    "end = 20\n",
    "result = generate_sequence(start, end)\n",
    "print(result)"
   ]
  },
  {
   "cell_type": "code",
   "execution_count": 40,
   "metadata": {},
   "outputs": [
    {
     "name": "stdout",
     "output_type": "stream",
     "text": [
      "tensor([ 21,  22,  23,  24,  25,  26,  27,  28,  29,  81,  82,  83,  84,  85,\n",
      "         86,  87,  88,  89, 151, 152, 153, 154, 155, 156, 157, 158, 159, 191,\n",
      "        192, 193, 194, 195, 196, 197, 198, 199])\n"
     ]
    }
   ],
   "source": [
    "import torch\n",
    "\n",
    "def generate_sequence(raw_array, extension):\n",
    "    sequence = torch.tensor(raw_array).repeat(extension)\n",
    "    sequence = torch.arange(sequence[0], sequence[-1]+1)\n",
    "    return sequence.tolist()\n",
    "\n",
    "# e.g. 1 to 80 bits -> (quantized 8) -> 1 to 640 bits :\n",
    "# search ([3,9,16,20]) -> ([16,17,18,19,20,21,22,23,64,65...])\n",
    "\n",
    "def pos_to_qpos(float32_pos,qbits,dtype):\n",
    "    sequence_quantized = torch.Tensor([])\n",
    "    for i in range(len(float32_pos)):\n",
    "\n",
    "        ##### Flip qbits #####\n",
    "        # new_pos_begin = (float32_pos[i]-1)*qbits \n",
    "        # end_pos_begin = (float32_pos[i])*qbits\n",
    "\n",
    "        ##### Dont include sign bit ##### because our of quantized representation \n",
    "        new_pos_begin = (float32_pos[i]-1)*qbits +1  # No sign bit\n",
    "        end_pos_begin = (float32_pos[i])*qbits\n",
    "\n",
    "        ##### Flip only sign bit #####\n",
    "        # new_pos_begin = (float32_pos[i]-1)*qbits     # No sign bit\n",
    "        # end_pos_begin = (float32_pos[i]-1)*qbits +1  # only sign bits\n",
    "\n",
    "        sequence = torch.arange(new_pos_begin, end_pos_begin)\n",
    "        sequence_quantized = torch.cat((sequence_quantized, sequence), dim=0)\n",
    "    return sequence_quantized.to(dtype)\n",
    "\n",
    "raw_array = torch.tensor([3, 9, 16, 20])\n",
    "\n",
    "a = raw_array.dtype\n",
    "print(pos_to_qpos(raw_array,10,a))\n"
   ]
  },
  {
   "cell_type": "code",
   "execution_count": null,
   "metadata": {},
   "outputs": [],
   "source": []
  },
  {
   "cell_type": "code",
   "execution_count": null,
   "metadata": {},
   "outputs": [],
   "source": []
  }
 ],
 "metadata": {
  "kernelspec": {
   "display_name": "SNN_Research",
   "language": "python",
   "name": "python3"
  },
  "language_info": {
   "codemirror_mode": {
    "name": "ipython",
    "version": 3
   },
   "file_extension": ".py",
   "mimetype": "text/x-python",
   "name": "python",
   "nbconvert_exporter": "python",
   "pygments_lexer": "ipython3",
   "version": "3.9.16"
  },
  "orig_nbformat": 4
 },
 "nbformat": 4,
 "nbformat_minor": 2
}
