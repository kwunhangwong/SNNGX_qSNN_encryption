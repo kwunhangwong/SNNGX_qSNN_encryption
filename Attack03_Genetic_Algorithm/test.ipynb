{
 "cells": [
  {
   "cell_type": "code",
   "execution_count": 1,
   "metadata": {},
   "outputs": [
    {
     "name": "stderr",
     "output_type": "stream",
     "text": [
      "/home/edwin/anaconda3/envs/SNN_env/lib/python3.9/site-packages/tqdm/auto.py:21: TqdmWarning: IProgress not found. Please update jupyter and ipywidgets. See https://ipywidgets.readthedocs.io/en/stable/user_install.html\n",
      "  from .autonotebook import tqdm as notebook_tqdm\n"
     ]
    }
   ],
   "source": [
    "import torch\n",
    "import sys\n",
    "\n",
    "sys.path.append('../quantization_utils')\n",
    "from _Loading_All_Model import *\n",
    "from _Loading_All_Dataloader import * \n",
    "from quantization import *\n",
    "\n",
    "# Specify the path to your model file\n",
    "# adv_path = \"./flipped_DVS128_Gesture.t7\"\n",
    "# normal_path = \"../pretrained_weights_float32/pretrained_DVS_csnn_128e_91a.t7\"\n",
    "\n",
    "adv_path = \"../pretrained_weights_float32/flipped_8samples-nmnist.t7\"\n",
    "normal_path = \"../pretrained_weights_float32/pre_trained_normal-nmnist_snn_300e.t7\"\n",
    "\n",
    "# Check if a GPU is available and set the device accordingly\n",
    "device = torch.device(\"cuda\" if torch.cuda.is_available() else \"cpu\")\n",
    "\n",
    "# Load the model\n",
    "adv_1 = torch.load(adv_path, map_location=device)\n",
    "norm_2 = torch.load(normal_path, map_location=device)\n",
    "\n"
   ]
  },
  {
   "cell_type": "code",
   "execution_count": 2,
   "metadata": {},
   "outputs": [
    {
     "data": {
      "text/plain": [
       "OrderedDict([('fc1.weight',\n",
       "              tensor([[-0.0000,  0.0156, -0.0078,  ...,  0.0078, -0.0234, -0.0859],\n",
       "                      [-0.0078,  0.0078,  0.0000,  ..., -0.0938, -0.0000,  0.0547],\n",
       "                      [ 0.0156, -0.0078, -0.0000,  ...,  0.1094, -0.0078,  0.0156],\n",
       "                      ...,\n",
       "                      [ 0.0156,  0.0078,  0.0156,  ...,  0.2422, -0.1406, -0.2344],\n",
       "                      [-0.0156, -0.0000, -0.0000,  ...,  0.0078,  0.0938,  0.0078],\n",
       "                      [-0.0000,  0.0000,  0.0000,  ..., -0.0781,  0.0859, -0.0547]],\n",
       "                     device='cuda:0')),\n",
       "             ('fc2.weight',\n",
       "              tensor([[-0.1289, -0.2891,  0.0508,  ..., -0.0781, -0.2070, -0.2188],\n",
       "                      [ 0.1250, -0.1484,  0.1680,  ..., -0.1992,  0.3906,  0.0977],\n",
       "                      [-0.0312,  0.0469, -0.0977,  ...,  0.0312,  0.2773,  0.1719],\n",
       "                      ...,\n",
       "                      [-0.1250, -0.0938,  0.1484,  ...,  0.1211,  0.2109,  0.1016],\n",
       "                      [-0.2852, -0.2695, -0.1016,  ...,  0.0391,  0.2539,  0.2422],\n",
       "                      [ 0.1367,  0.2773, -0.3672,  ..., -0.2031,  0.1914, -0.0977]],\n",
       "                     device='cuda:0'))])"
      ]
     },
     "execution_count": 2,
     "metadata": {},
     "output_type": "execute_result"
    }
   ],
   "source": [
    "adv_1['net']"
   ]
  },
  {
   "cell_type": "code",
   "execution_count": 3,
   "metadata": {},
   "outputs": [
    {
     "data": {
      "text/plain": [
       "OrderedDict([('fc1.weight',\n",
       "              tensor([[-0.0012,  0.0176, -0.0085,  ...,  0.0150, -0.0259, -0.0873],\n",
       "                      [-0.0116,  0.0151,  0.0031,  ..., -0.0999, -0.0022,  0.0593],\n",
       "                      [ 0.0194, -0.0145, -0.0003,  ...,  0.1103, -0.0105,  0.0179],\n",
       "                      ...,\n",
       "                      [ 0.0205,  0.0078,  0.0203,  ...,  0.2490, -0.1455, -0.2406],\n",
       "                      [-0.0185, -0.0015, -0.0033,  ...,  0.0140,  0.0942,  0.0153],\n",
       "                      [-0.0061,  0.0076,  0.0022,  ..., -0.0851,  0.0888, -0.0590]],\n",
       "                     device='cuda:0')),\n",
       "             ('fc2.weight',\n",
       "              tensor([[-0.1298, -0.2915,  0.0536,  ..., -0.0819,  0.2100, -0.2223],\n",
       "                      [-0.1252, -0.1498,  0.1694,  ..., -0.1993,  0.3921,  0.0994],\n",
       "                      [-0.0340,  0.0474, -0.0983,  ...,  0.0345,  0.2785,  0.1751],\n",
       "                      ...,\n",
       "                      [-0.1265, -0.0967,  0.1495,  ...,  0.1231,  0.2147,  0.1018],\n",
       "                      [-0.2869, -0.2708, -0.1023,  ...,  0.0410,  0.2576,  0.2449],\n",
       "                      [ 0.1373,  0.2775, -0.3683,  ..., -0.2049,  0.1932, -0.0986]],\n",
       "                     device='cuda:0'))])"
      ]
     },
     "execution_count": 3,
     "metadata": {},
     "output_type": "execute_result"
    }
   ],
   "source": [
    "norm_2['net']"
   ]
  },
  {
   "cell_type": "code",
   "execution_count": 6,
   "metadata": {},
   "outputs": [
    {
     "data": {
      "text/plain": [
       "<All keys matched successfully>"
      ]
     },
     "execution_count": 6,
     "metadata": {},
     "output_type": "execute_result"
    }
   ],
   "source": [
    "batch_size = 64\n",
    "_ , test_loader = choose_dataset(target=\"NMNIST\",batch_size=batch_size,T_BIN=15,dataset_path='../../dataset/')\n",
    "\n",
    "adv_model = NMNIST_model(batch_size=batch_size).to(device)\n",
    "adv_model.load_state_dict(adv_1['net'])\n",
    "\n",
    "\n",
    "normal_model = NMNIST_model(batch_size=batch_size).to(device)\n",
    "normal_model.load_state_dict(norm_2['net'])\n",
    "quantize_weights_nbits(normal_model,8)"
   ]
  },
  {
   "cell_type": "code",
   "execution_count": 9,
   "metadata": {},
   "outputs": [
    {
     "name": "stdout",
     "output_type": "stream",
     "text": [
      "Checking on testing data\n"
     ]
    },
    {
     "ename": "KeyboardInterrupt",
     "evalue": "",
     "output_type": "error",
     "traceback": [
      "\u001b[0;31m---------------------------------------------------------------------------\u001b[0m",
      "\u001b[0;31mKeyboardInterrupt\u001b[0m                         Traceback (most recent call last)",
      "Cell \u001b[0;32mIn[9], line 1\u001b[0m\n\u001b[0;32m----> 1\u001b[0m check_accuracy(test_loader,adv_model)\n\u001b[1;32m      2\u001b[0m check_accuracy(test_loader,normal_model)\n",
      "File \u001b[0;32m~/code/qSNN_encryption/Attack03_Genetic_Algorithm/../quantization_utils/_Loading_All_Model.py:149\u001b[0m, in \u001b[0;36mcheck_accuracy\u001b[0;34m(loader, model, device)\u001b[0m\n\u001b[1;32m    147\u001b[0m model\u001b[39m.\u001b[39meval()  \n\u001b[1;32m    148\u001b[0m \u001b[39mwith\u001b[39;00m torch\u001b[39m.\u001b[39mno_grad():   \u001b[39m#no need to cal grad\u001b[39;00m\n\u001b[0;32m--> 149\u001b[0m     \u001b[39mfor\u001b[39;00m image,label \u001b[39min\u001b[39;00m loader:\n\u001b[1;32m    150\u001b[0m         image\u001b[39m=\u001b[39m image\u001b[39m.\u001b[39mto(device)\n\u001b[1;32m    151\u001b[0m         label\u001b[39m=\u001b[39m label\u001b[39m.\u001b[39mto(device)\n",
      "File \u001b[0;32m~/anaconda3/envs/SNN_env/lib/python3.9/site-packages/torch/utils/data/dataloader.py:633\u001b[0m, in \u001b[0;36m_BaseDataLoaderIter.__next__\u001b[0;34m(self)\u001b[0m\n\u001b[1;32m    630\u001b[0m \u001b[39mif\u001b[39;00m \u001b[39mself\u001b[39m\u001b[39m.\u001b[39m_sampler_iter \u001b[39mis\u001b[39;00m \u001b[39mNone\u001b[39;00m:\n\u001b[1;32m    631\u001b[0m     \u001b[39m# TODO(https://github.com/pytorch/pytorch/issues/76750)\u001b[39;00m\n\u001b[1;32m    632\u001b[0m     \u001b[39mself\u001b[39m\u001b[39m.\u001b[39m_reset()  \u001b[39m# type: ignore[call-arg]\u001b[39;00m\n\u001b[0;32m--> 633\u001b[0m data \u001b[39m=\u001b[39m \u001b[39mself\u001b[39;49m\u001b[39m.\u001b[39;49m_next_data()\n\u001b[1;32m    634\u001b[0m \u001b[39mself\u001b[39m\u001b[39m.\u001b[39m_num_yielded \u001b[39m+\u001b[39m\u001b[39m=\u001b[39m \u001b[39m1\u001b[39m\n\u001b[1;32m    635\u001b[0m \u001b[39mif\u001b[39;00m \u001b[39mself\u001b[39m\u001b[39m.\u001b[39m_dataset_kind \u001b[39m==\u001b[39m _DatasetKind\u001b[39m.\u001b[39mIterable \u001b[39mand\u001b[39;00m \\\n\u001b[1;32m    636\u001b[0m         \u001b[39mself\u001b[39m\u001b[39m.\u001b[39m_IterableDataset_len_called \u001b[39mis\u001b[39;00m \u001b[39mnot\u001b[39;00m \u001b[39mNone\u001b[39;00m \u001b[39mand\u001b[39;00m \\\n\u001b[1;32m    637\u001b[0m         \u001b[39mself\u001b[39m\u001b[39m.\u001b[39m_num_yielded \u001b[39m>\u001b[39m \u001b[39mself\u001b[39m\u001b[39m.\u001b[39m_IterableDataset_len_called:\n",
      "File \u001b[0;32m~/anaconda3/envs/SNN_env/lib/python3.9/site-packages/torch/utils/data/dataloader.py:677\u001b[0m, in \u001b[0;36m_SingleProcessDataLoaderIter._next_data\u001b[0;34m(self)\u001b[0m\n\u001b[1;32m    675\u001b[0m \u001b[39mdef\u001b[39;00m \u001b[39m_next_data\u001b[39m(\u001b[39mself\u001b[39m):\n\u001b[1;32m    676\u001b[0m     index \u001b[39m=\u001b[39m \u001b[39mself\u001b[39m\u001b[39m.\u001b[39m_next_index()  \u001b[39m# may raise StopIteration\u001b[39;00m\n\u001b[0;32m--> 677\u001b[0m     data \u001b[39m=\u001b[39m \u001b[39mself\u001b[39;49m\u001b[39m.\u001b[39;49m_dataset_fetcher\u001b[39m.\u001b[39;49mfetch(index)  \u001b[39m# may raise StopIteration\u001b[39;00m\n\u001b[1;32m    678\u001b[0m     \u001b[39mif\u001b[39;00m \u001b[39mself\u001b[39m\u001b[39m.\u001b[39m_pin_memory:\n\u001b[1;32m    679\u001b[0m         data \u001b[39m=\u001b[39m _utils\u001b[39m.\u001b[39mpin_memory\u001b[39m.\u001b[39mpin_memory(data, \u001b[39mself\u001b[39m\u001b[39m.\u001b[39m_pin_memory_device)\n",
      "File \u001b[0;32m~/anaconda3/envs/SNN_env/lib/python3.9/site-packages/torch/utils/data/_utils/fetch.py:51\u001b[0m, in \u001b[0;36m_MapDatasetFetcher.fetch\u001b[0;34m(self, possibly_batched_index)\u001b[0m\n\u001b[1;32m     49\u001b[0m         data \u001b[39m=\u001b[39m \u001b[39mself\u001b[39m\u001b[39m.\u001b[39mdataset\u001b[39m.\u001b[39m__getitems__(possibly_batched_index)\n\u001b[1;32m     50\u001b[0m     \u001b[39melse\u001b[39;00m:\n\u001b[0;32m---> 51\u001b[0m         data \u001b[39m=\u001b[39m [\u001b[39mself\u001b[39m\u001b[39m.\u001b[39mdataset[idx] \u001b[39mfor\u001b[39;00m idx \u001b[39min\u001b[39;00m possibly_batched_index]\n\u001b[1;32m     52\u001b[0m \u001b[39melse\u001b[39;00m:\n\u001b[1;32m     53\u001b[0m     data \u001b[39m=\u001b[39m \u001b[39mself\u001b[39m\u001b[39m.\u001b[39mdataset[possibly_batched_index]\n",
      "File \u001b[0;32m~/anaconda3/envs/SNN_env/lib/python3.9/site-packages/torch/utils/data/_utils/fetch.py:51\u001b[0m, in \u001b[0;36m<listcomp>\u001b[0;34m(.0)\u001b[0m\n\u001b[1;32m     49\u001b[0m         data \u001b[39m=\u001b[39m \u001b[39mself\u001b[39m\u001b[39m.\u001b[39mdataset\u001b[39m.\u001b[39m__getitems__(possibly_batched_index)\n\u001b[1;32m     50\u001b[0m     \u001b[39melse\u001b[39;00m:\n\u001b[0;32m---> 51\u001b[0m         data \u001b[39m=\u001b[39m [\u001b[39mself\u001b[39;49m\u001b[39m.\u001b[39;49mdataset[idx] \u001b[39mfor\u001b[39;00m idx \u001b[39min\u001b[39;00m possibly_batched_index]\n\u001b[1;32m     52\u001b[0m \u001b[39melse\u001b[39;00m:\n\u001b[1;32m     53\u001b[0m     data \u001b[39m=\u001b[39m \u001b[39mself\u001b[39m\u001b[39m.\u001b[39mdataset[possibly_batched_index]\n",
      "File \u001b[0;32m~/anaconda3/envs/SNN_env/lib/python3.9/site-packages/tonic/datasets/nmnist.py:115\u001b[0m, in \u001b[0;36mNMNIST.__getitem__\u001b[0;34m(self, index)\u001b[0m\n\u001b[1;32m    113\u001b[0m target \u001b[39m=\u001b[39m \u001b[39mself\u001b[39m\u001b[39m.\u001b[39mtargets[index]\n\u001b[1;32m    114\u001b[0m \u001b[39mif\u001b[39;00m \u001b[39mself\u001b[39m\u001b[39m.\u001b[39mtransform \u001b[39mis\u001b[39;00m \u001b[39mnot\u001b[39;00m \u001b[39mNone\u001b[39;00m:\n\u001b[0;32m--> 115\u001b[0m     events \u001b[39m=\u001b[39m \u001b[39mself\u001b[39;49m\u001b[39m.\u001b[39;49mtransform(events)\n\u001b[1;32m    116\u001b[0m \u001b[39mif\u001b[39;00m \u001b[39mself\u001b[39m\u001b[39m.\u001b[39mtarget_transform \u001b[39mis\u001b[39;00m \u001b[39mnot\u001b[39;00m \u001b[39mNone\u001b[39;00m:\n\u001b[1;32m    117\u001b[0m     target \u001b[39m=\u001b[39m \u001b[39mself\u001b[39m\u001b[39m.\u001b[39mtarget_transform(target)\n",
      "File \u001b[0;32m~/anaconda3/envs/SNN_env/lib/python3.9/site-packages/tonic/transforms.py:30\u001b[0m, in \u001b[0;36mCompose.__call__\u001b[0;34m(self, events)\u001b[0m\n\u001b[1;32m     28\u001b[0m \u001b[39mdef\u001b[39;00m \u001b[39m__call__\u001b[39m(\u001b[39mself\u001b[39m, events):\n\u001b[1;32m     29\u001b[0m     \u001b[39mfor\u001b[39;00m t \u001b[39min\u001b[39;00m \u001b[39mself\u001b[39m\u001b[39m.\u001b[39mtransforms:\n\u001b[0;32m---> 30\u001b[0m         events \u001b[39m=\u001b[39m t(events)\n\u001b[1;32m     31\u001b[0m     \u001b[39mreturn\u001b[39;00m events\n",
      "File \u001b[0;32m~/anaconda3/envs/SNN_env/lib/python3.9/site-packages/tonic/transforms.py:117\u001b[0m, in \u001b[0;36mDenoise.__call__\u001b[0;34m(self, events)\u001b[0m\n\u001b[1;32m    116\u001b[0m \u001b[39mdef\u001b[39;00m \u001b[39m__call__\u001b[39m(\u001b[39mself\u001b[39m, events):\n\u001b[0;32m--> 117\u001b[0m     \u001b[39mreturn\u001b[39;00m functional\u001b[39m.\u001b[39;49mdenoise_numpy(events\u001b[39m=\u001b[39;49mevents, filter_time\u001b[39m=\u001b[39;49m\u001b[39mself\u001b[39;49m\u001b[39m.\u001b[39;49mfilter_time)\n",
      "File \u001b[0;32m~/anaconda3/envs/SNN_env/lib/python3.9/site-packages/tonic/functional/denoise.py:29\u001b[0m, in \u001b[0;36mdenoise_numpy\u001b[0;34m(events, filter_time)\u001b[0m\n\u001b[1;32m     27\u001b[0m \u001b[39mfor\u001b[39;00m event \u001b[39min\u001b[39;00m events:\n\u001b[1;32m     28\u001b[0m     x \u001b[39m=\u001b[39m \u001b[39mint\u001b[39m(event[\u001b[39m\"\u001b[39m\u001b[39mx\u001b[39m\u001b[39m\"\u001b[39m])\n\u001b[0;32m---> 29\u001b[0m     y \u001b[39m=\u001b[39m \u001b[39mint\u001b[39;49m(event[\u001b[39m\"\u001b[39;49m\u001b[39my\u001b[39;49m\u001b[39m\"\u001b[39;49m])\n\u001b[1;32m     30\u001b[0m     t \u001b[39m=\u001b[39m event[\u001b[39m\"\u001b[39m\u001b[39mt\u001b[39m\u001b[39m\"\u001b[39m]\n\u001b[1;32m     31\u001b[0m     timestamp_memory[x, y] \u001b[39m=\u001b[39m t \u001b[39m+\u001b[39m filter_time\n",
      "\u001b[0;31mKeyboardInterrupt\u001b[0m: "
     ]
    }
   ],
   "source": [
    "check_accuracy(test_loader,adv_model)\n",
    "check_accuracy(test_loader,normal_model)"
   ]
  },
  {
   "cell_type": "code",
   "execution_count": null,
   "metadata": {},
   "outputs": [],
   "source": []
  },
  {
   "cell_type": "code",
   "execution_count": 12,
   "metadata": {},
   "outputs": [],
   "source": []
  },
  {
   "cell_type": "code",
   "execution_count": 13,
   "metadata": {},
   "outputs": [],
   "source": []
  },
  {
   "cell_type": "code",
   "execution_count": 16,
   "metadata": {},
   "outputs": [],
   "source": []
  },
  {
   "cell_type": "code",
   "execution_count": null,
   "metadata": {},
   "outputs": [],
   "source": []
  },
  {
   "cell_type": "code",
   "execution_count": null,
   "metadata": {},
   "outputs": [],
   "source": []
  }
 ],
 "metadata": {
  "kernelspec": {
   "display_name": "SNN_env",
   "language": "python",
   "name": "python3"
  },
  "language_info": {
   "codemirror_mode": {
    "name": "ipython",
    "version": 3
   },
   "file_extension": ".py",
   "mimetype": "text/x-python",
   "name": "python",
   "nbconvert_exporter": "python",
   "pygments_lexer": "ipython3",
   "version": "3.9.16"
  },
  "orig_nbformat": 4
 },
 "nbformat": 4,
 "nbformat_minor": 2
}
