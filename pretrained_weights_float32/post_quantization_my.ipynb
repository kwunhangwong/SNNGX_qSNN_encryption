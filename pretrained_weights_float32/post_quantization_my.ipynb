{
 "cells": [
  {
   "cell_type": "code",
   "execution_count": 22,
   "metadata": {},
   "outputs": [],
   "source": [
    "import torch \n",
    "import torch.nn as nn\n",
    "\n",
    "# n bits quantization\n",
    "\n",
    "def float2bin(f, fixed_exp, nbits=8):\n",
    "    s = torch.sign(f)\n",
    "    f = f * s\n",
    "    s = (s * (-1) + 1.) * 0.5\n",
    "    s= s.unsqueeze(-1)\n",
    "    f = f/(2**fixed_exp)\n",
    "    m = integer2bit(f - f % 1,num_bits = nbits-1)\n",
    "    dtype = f.type()\n",
    "    out = torch.cat([s, m], dim=-1).type(dtype)\n",
    "    return out\n",
    "\n",
    "def integer2bit(integer, num_bits=7):\n",
    "    dtype = integer.type()\n",
    "    exponent_bits = -torch.arange(-(num_bits - 1), 1).type(dtype)\n",
    "    exponent_bits = exponent_bits.repeat(integer.shape + (1,))\n",
    "    out = integer.unsqueeze(-1) / 2 ** exponent_bits\n",
    "    return (out - (out % 1)) % 2\n",
    "\n",
    "def bin2float(b, fixed_exp, nbits=8, device=torch.device('cuda' if torch.cuda.is_available() else 'cpu')):\n",
    "    dtype = torch.float32\n",
    "    s = torch.index_select(b, -1, torch.arange(0, 1).to(device))\n",
    "    m = torch.index_select(b, -1, torch.arange(1,nbits).to(device))\n",
    "    out = ((-1) ** s).squeeze(-1).type(dtype)\n",
    "    exponents = -torch.arange(-(nbits - 2.), 1.).to(device)\n",
    "    exponents = exponents.repeat(b.shape[:-1] + (1,))\n",
    "    e_decimal = torch.sum(m * 2 ** (exponents), dim=-1)\n",
    "    out *= e_decimal * 2 ** fixed_exp\n",
    "    return out\n",
    "\n",
    "def quantize_weights_nbits(model, nbits):\n",
    "    for name, module in model.named_modules():\n",
    "        if isinstance(module, nn.Conv2d) or isinstance(module, nn.Linear):\n",
    "            print(f\"The current layer is: {name}: \")\n",
    "            weight = module.weight.data\n",
    "            # step size\n",
    "            weight_max = torch.max(weight)\n",
    "            fixed_exp = torch.ceil(torch.log2(weight_max/(2**(nbits-1)-1))) + 1\n",
    "\n",
    "            # quantize to binary, and back to floating pt\n",
    "            binary = float2bin(weight,fixed_exp,nbits).to(torch.int8)\n",
    "            quantized_f = bin2float(binary,fixed_exp,nbits)\n",
    "\n",
    "            # update weight\n",
    "            module.weight.data = quantized_f\n",
    "            print(f\"finished quantized {name} weights to {nbits} BITs\")\n",
    "\n",
    "    return None\n"
   ]
  },
  {
   "cell_type": "code",
   "execution_count": 33,
   "metadata": {},
   "outputs": [],
   "source": [
    "import sys\n",
    "import torch\n",
    "sys.path.append('../quantization_utils')\n",
    "sys.path.append('../dataset')\n",
    "\n",
    "from All_Dataloader import *\n",
    "from _Loading_All_Model import * \n",
    "\n",
    "batch_size = 64\n",
    "device = torch.device('cpu')\n",
    "dataset_path = '../../Torch_condaENV/Working_folder/dataset/'\n",
    "\n",
    "# Load some pretrained model\n",
    "weight_path = './pre_trained_normal-nmnist_snn_300e.t7'\n",
    "model = DVS128_Model(batch_size=batch_size).to(device)\n",
    "checkpoint = torch.load(weight_path,map_location=device)\n",
    "model.load_state_dict(checkpoint['net'])\n",
    "\n",
    "# Dataset (TEST and Subset Loader)\n",
    "_ , test_loader = choose_dataset(target=\"DVS128_Gesture\",batch_size=batch_size,T_BIN=15,dataset_path=dataset_path)\n"
   ]
  },
  {
   "cell_type": "code",
   "execution_count": 16,
   "metadata": {},
   "outputs": [
    {
     "name": "stdout",
     "output_type": "stream",
     "text": [
      "Checking on testing data\n",
      "Got 9799/9984 with accuracy 98.15\n"
     ]
    },
    {
     "data": {
      "text/plain": [
       "tensor(0.9815)"
      ]
     },
     "execution_count": 16,
     "metadata": {},
     "output_type": "execute_result"
    }
   ],
   "source": [
    "check_accuracy(loader=test_loader, model=model)"
   ]
  },
  {
   "cell_type": "code",
   "execution_count": 34,
   "metadata": {},
   "outputs": [
    {
     "name": "stdout",
     "output_type": "stream",
     "text": [
      "The current layer is: fc1: \n",
      "finished quantized fc1 weights to 4 BITs\n",
      "The current layer is: fc2: \n",
      "finished quantized fc2 weights to 4 BITs\n"
     ]
    }
   ],
   "source": [
    "quantize_weights_nbits(model,4)"
   ]
  },
  {
   "cell_type": "code",
   "execution_count": 35,
   "metadata": {},
   "outputs": [
    {
     "name": "stdout",
     "output_type": "stream",
     "text": [
      "Checking on testing data\n",
      "Got 905/9984 with accuracy 9.06\n"
     ]
    },
    {
     "data": {
      "text/plain": [
       "tensor(0.0906)"
      ]
     },
     "execution_count": 35,
     "metadata": {},
     "output_type": "execute_result"
    }
   ],
   "source": [
    "check_accuracy(loader=test_loader, model=model)"
   ]
  },
  {
   "cell_type": "code",
   "execution_count": 32,
   "metadata": {},
   "outputs": [
    {
     "ename": "KeyError",
     "evalue": "'acc'",
     "output_type": "error",
     "traceback": [
      "\u001b[0;31m---------------------------------------------------------------------------\u001b[0m",
      "\u001b[0;31mKeyError\u001b[0m                                  Traceback (most recent call last)",
      "Cell \u001b[0;32mIn[32], line 1\u001b[0m\n\u001b[0;32m----> 1\u001b[0m \u001b[39mprint\u001b[39m(checkpoint[\u001b[39m'\u001b[39;49m\u001b[39macc\u001b[39;49m\u001b[39m'\u001b[39;49m])\n",
      "\u001b[0;31mKeyError\u001b[0m: 'acc'"
     ]
    }
   ],
   "source": [
    "print(checkpoint['acc'])"
   ]
  },
  {
   "cell_type": "code",
   "execution_count": null,
   "metadata": {},
   "outputs": [],
   "source": []
  }
 ],
 "metadata": {
  "kernelspec": {
   "display_name": "SNN_Research",
   "language": "python",
   "name": "python3"
  },
  "language_info": {
   "codemirror_mode": {
    "name": "ipython",
    "version": 3
   },
   "file_extension": ".py",
   "mimetype": "text/x-python",
   "name": "python",
   "nbconvert_exporter": "python",
   "pygments_lexer": "ipython3",
   "version": "3.9.16"
  },
  "orig_nbformat": 4
 },
 "nbformat": 4,
 "nbformat_minor": 2
}
