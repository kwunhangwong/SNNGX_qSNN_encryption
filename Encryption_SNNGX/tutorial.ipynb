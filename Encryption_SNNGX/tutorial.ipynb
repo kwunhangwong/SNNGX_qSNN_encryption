{
 "cells": [
  {
   "cell_type": "markdown",
   "metadata": {},
   "source": [
    "# Interchanging unencrypted model with encrypted layer \n",
    "\n",
    "# NMNIST (Verify Encryption correctness)"
   ]
  },
  {
   "cell_type": "code",
   "execution_count": 1,
   "metadata": {},
   "outputs": [
    {
     "name": "stderr",
     "output_type": "stream",
     "text": [
      "/home/edwin/anaconda3/envs/SNN_env/lib/python3.9/site-packages/tqdm/auto.py:21: TqdmWarning: IProgress not found. Please update jupyter and ipywidgets. See https://ipywidgets.readthedocs.io/en/stable/user_install.html\n",
      "  from .autonotebook import tqdm as notebook_tqdm\n"
     ]
    },
    {
     "name": "stdout",
     "output_type": "stream",
     "text": [
      "Current device is cuda!!\n",
      "Checking on testing data\n",
      "Got 1564/10000 with accuracy 15.64\n",
      "Encrypted mode Acc: 15.639999389648438% Accuracy\n"
     ]
    }
   ],
   "source": [
    "import torch\n",
    "import sys\n",
    "sys.path.append('../quantization_utils')\n",
    "\n",
    "from _Loading_All_Model import *\n",
    "from _Loading_All_Dataloader import * \n",
    "from quantization import *\n",
    "\n",
    "device = torch.device('cuda' if torch.cuda.is_available() else 'cpu')\n",
    "print(f\"Current device is {device}!!\")\n",
    "\n",
    "weight_path = '../pretrained_weights_float32/encrypted_8samples-nmnist.t7'\n",
    "model = NMNIST_model(T_BIN=15).to(device)\n",
    "checkpoint = torch.load(weight_path,map_location=device)\n",
    "model.load_state_dict(checkpoint['net'])\n",
    "\n",
    "_ , test_loader = choose_dataset(target=\"NMNIST\",batch_size=16,T_BIN=15,dataset_path='/home/edwin/code/dataset/')\n",
    "    \n",
    "print(f\"Encrypted mode Acc: {check_accuracy(test_loader,model)*100}% Accuracy\")"
   ]
  },
  {
   "cell_type": "code",
   "execution_count": 2,
   "metadata": {},
   "outputs": [
    {
     "name": "stdout",
     "output_type": "stream",
     "text": [
      "The current layer is: fc1: \n",
      "finished quantized fc1 weights to 8 BITs\n",
      "The current layer is: fc2: \n",
      "finished quantized fc2 weights to 8 BITs\n",
      "Checking on testing data\n",
      "Got 9795/10000 with accuracy 97.95\n",
      "Float32 model quantized to 8bit Acc: 97.94999694824219% Accuracy\n"
     ]
    }
   ],
   "source": [
    "weight_path = '../pretrained_weights_float32/pre_trained_normal-nmnist_snn_300e.t7'\n",
    "model_new = NMNIST_model(T_BIN=15).to(device)\n",
    "checkpoint = torch.load(weight_path,map_location=device)\n",
    "model_new.load_state_dict(checkpoint['net'])\n",
    "quantize_weights_nbits(model_new,8)\n",
    "\n",
    "print(f\"Float32 model quantized to 8bit Acc: {check_accuracy(test_loader,model_new)*100}% Accuracy\")"
   ]
  },
  {
   "cell_type": "code",
   "execution_count": 3,
   "metadata": {},
   "outputs": [
    {
     "data": {
      "text/plain": [
       "tensor([[-0.1289, -0.2891,  0.0508,  ..., -0.0781, -0.2070, -0.2188],\n",
       "        [ 0.1250, -0.1484,  0.1680,  ..., -0.1992,  0.3906,  0.0977],\n",
       "        [-0.0312,  0.0469, -0.0977,  ...,  0.0312,  0.2773,  0.1719],\n",
       "        ...,\n",
       "        [-0.1250, -0.0938,  0.1484,  ...,  0.1211,  0.2109,  0.1016],\n",
       "        [-0.2852, -0.2695, -0.1016,  ...,  0.0391,  0.2539,  0.2422],\n",
       "        [ 0.1367,  0.2773, -0.3672,  ..., -0.2031,  0.1914, -0.0977]],\n",
       "       device='cuda:0')"
      ]
     },
     "execution_count": 3,
     "metadata": {},
     "output_type": "execute_result"
    }
   ],
   "source": [
    "model.fc2.weight.data"
   ]
  },
  {
   "cell_type": "code",
   "execution_count": 4,
   "metadata": {},
   "outputs": [
    {
     "data": {
      "text/plain": [
       "tensor([[-0.1289, -0.2891,  0.0508,  ..., -0.0781,  0.2070, -0.2188],\n",
       "        [-0.1250, -0.1484,  0.1680,  ..., -0.1992,  0.3906,  0.0977],\n",
       "        [-0.0312,  0.0469, -0.0977,  ...,  0.0312,  0.2773,  0.1719],\n",
       "        ...,\n",
       "        [-0.1250, -0.0938,  0.1484,  ...,  0.1211,  0.2109,  0.1016],\n",
       "        [-0.2852, -0.2695, -0.1016,  ...,  0.0391,  0.2539,  0.2422],\n",
       "        [ 0.1367,  0.2773, -0.3672,  ..., -0.2031,  0.1914, -0.0977]],\n",
       "       device='cuda:0')"
      ]
     },
     "execution_count": 4,
     "metadata": {},
     "output_type": "execute_result"
    }
   ],
   "source": [
    "model_new.fc2.weight.data"
   ]
  },
  {
   "cell_type": "code",
   "execution_count": 5,
   "metadata": {},
   "outputs": [
    {
     "data": {
      "text/plain": [
       "tensor(35, device='cuda:0')"
      ]
     },
     "execution_count": 5,
     "metadata": {},
     "output_type": "execute_result"
    }
   ],
   "source": [
    "(model.fc2.weight.data != model_new.fc2.weight.data).sum()"
   ]
  },
  {
   "cell_type": "markdown",
   "metadata": {},
   "source": [
    "# Cross Validation (NMNIST)"
   ]
  },
  {
   "cell_type": "code",
   "execution_count": 6,
   "metadata": {},
   "outputs": [
    {
     "name": "stdout",
     "output_type": "stream",
     "text": [
      "Checking on testing data\n",
      "Got 1564/10000 with accuracy 15.64\n",
      "Encrypted model Acc: 15.639999389648438% Accuracy\n",
      "Checking on testing data\n",
      "Got 9795/10000 with accuracy 97.95\n",
      "Float32 model quantized to 8bit Acc: 97.94999694824219% Accuracy\n"
     ]
    }
   ],
   "source": [
    "print(f\"Encrypted model Acc: {check_accuracy(test_loader,model)*100}% Accuracy\")\n",
    "print(f\"Float32 model quantized to 8bit Acc: {check_accuracy(test_loader,model_new)*100}% Accuracy\")"
   ]
  },
  {
   "cell_type": "code",
   "execution_count": 7,
   "metadata": {},
   "outputs": [
    {
     "name": "stdout",
     "output_type": "stream",
     "text": [
      "Checking on testing data\n",
      "Got 9795/10000 with accuracy 97.95\n",
      "Cross vaildate for recovered Encrypted model Acc: 97.94999694824219% Accuracy\n"
     ]
    }
   ],
   "source": [
    "model.fc2.weight.data = model_new.fc2.weight.data \n",
    "print(f\"Cross vaildate for recovered Encrypted model Acc: {check_accuracy(test_loader, model)*100}% Accuracy\")"
   ]
  },
  {
   "cell_type": "markdown",
   "metadata": {},
   "source": [
    "# DVS128_Gesture (Verify Encryption correctness)"
   ]
  },
  {
   "cell_type": "code",
   "execution_count": 22,
   "metadata": {},
   "outputs": [
    {
     "name": "stdout",
     "output_type": "stream",
     "text": [
      "Current device is cuda!!\n",
      "Checking on testing data\n",
      "Got 92/264 with accuracy 34.85\n",
      "Encrypted mode Acc: 34.848487854003906% Accuracy\n"
     ]
    }
   ],
   "source": [
    "import torch\n",
    "import sys\n",
    "sys.path.append('../quantization_utils')\n",
    "\n",
    "from _Loading_All_Model import *\n",
    "from _Loading_All_Dataloader import * \n",
    "from quantization import *\n",
    "\n",
    "device = torch.device('cuda' if torch.cuda.is_available() else 'cpu')\n",
    "print(f\"Current device is {device}!!\")\n",
    "\n",
    "weight_path = '../pretrained_weights_float32/encrypted_DVS128_Gesture_34(10).t7'\n",
    "model = DVS128_model(T_BIN=15).to(device)\n",
    "checkpoint = torch.load(weight_path,map_location=device)\n",
    "model.load_state_dict(checkpoint['net'])\n",
    "\n",
    "_ , test_loader = choose_dataset(target=\"DVS128_Gesture\",batch_size=16,T_BIN=15,dataset_path='/home/edwin/code/dataset/')\n",
    "    \n",
    "print(f\"Encrypted mode Acc: {check_accuracy(test_loader,model)*100}% Accuracy\")"
   ]
  },
  {
   "cell_type": "code",
   "execution_count": 23,
   "metadata": {},
   "outputs": [
    {
     "name": "stdout",
     "output_type": "stream",
     "text": [
      "The current layer is: conv0: \n",
      "finished quantized conv0 weights to 8 BITs\n",
      "The current layer is: conv1: \n",
      "finished quantized conv1 weights to 8 BITs\n",
      "The current layer is: conv2: \n",
      "finished quantized conv2 weights to 8 BITs\n",
      "The current layer is: conv3: \n",
      "finished quantized conv3 weights to 8 BITs\n",
      "The current layer is: fc1: \n",
      "finished quantized fc1 weights to 8 BITs\n",
      "The current layer is: fc2: \n",
      "finished quantized fc2 weights to 8 BITs\n",
      "Checking on testing data\n",
      "Got 242/264 with accuracy 91.67\n",
      "Float32 model quantized to 8bit Acc: 91.66667175292969% Accuracy\n"
     ]
    }
   ],
   "source": [
    "weight_path = '../pretrained_weights_float32/pretrained_DVS_csnn_128e_91a.t7'\n",
    "model_new = DVS128_model(T_BIN=15).to(device)\n",
    "checkpoint = torch.load(weight_path,map_location=device)\n",
    "model_new.load_state_dict(checkpoint['net'])\n",
    "quantize_weights_nbits(model_new,8)\n",
    "\n",
    "print(f\"Float32 model quantized to 8bit Acc: {check_accuracy(test_loader,model_new)*100}% Accuracy\")"
   ]
  },
  {
   "cell_type": "code",
   "execution_count": 24,
   "metadata": {},
   "outputs": [
    {
     "data": {
      "text/plain": [
       "tensor([[[[-0.0195, -0.0098, -0.0938],\n",
       "          [ 0.0508, -0.1348, -0.0469],\n",
       "          [ 0.0879,  0.2207,  0.0527]],\n",
       "\n",
       "         [[-0.0801,  0.0195, -0.0293],\n",
       "          [ 0.0898,  0.0254,  0.0898],\n",
       "          [ 0.2207, -0.0957, -0.0039]]],\n",
       "\n",
       "\n",
       "        [[[ 0.0547,  0.0000, -0.0156],\n",
       "          [-0.2070, -0.2012, -0.2109],\n",
       "          [-0.2305, -0.2207, -0.1758]],\n",
       "\n",
       "         [[-0.2109, -0.2188,  0.1035],\n",
       "          [ 0.1465,  0.1582,  0.1270],\n",
       "          [ 0.0781,  0.0996, -0.1348]]],\n",
       "\n",
       "\n",
       "        [[[ 0.2031, -0.0234,  0.1973],\n",
       "          [ 0.0664,  0.1816,  0.1816],\n",
       "          [-0.0469, -0.0684,  0.0332]],\n",
       "\n",
       "         [[-0.0117,  0.0293,  0.1172],\n",
       "          [-0.1875, -0.0137, -0.1875],\n",
       "          [ 0.2266, -0.1660,  0.0410]]],\n",
       "\n",
       "\n",
       "        ...,\n",
       "\n",
       "\n",
       "        [[[-0.0566,  0.0469, -0.0488],\n",
       "          [-0.0566, -0.0859,  0.1328],\n",
       "          [-0.1562,  0.1445,  0.1367]],\n",
       "\n",
       "         [[-0.0469,  0.2051,  0.1602],\n",
       "          [ 0.0371,  0.2402,  0.0938],\n",
       "          [-0.0605,  0.1758,  0.0977]]],\n",
       "\n",
       "\n",
       "        [[[ 0.1328,  0.0898,  0.0957],\n",
       "          [ 0.1484,  0.2305,  0.2012],\n",
       "          [ 0.0605, -0.1367, -0.1973]],\n",
       "\n",
       "         [[-0.2188,  0.1445,  0.0840],\n",
       "          [ 0.1719,  0.1641, -0.1465],\n",
       "          [ 0.0977,  0.0195, -0.1426]]],\n",
       "\n",
       "\n",
       "        [[[ 0.0547, -0.2148, -0.0234],\n",
       "          [ 0.2051,  0.0312, -0.0918],\n",
       "          [ 0.1719,  0.0781, -0.1660]],\n",
       "\n",
       "         [[-0.0449,  0.2070, -0.0293],\n",
       "          [-0.1328, -0.1172, -0.1270],\n",
       "          [-0.1914,  0.1992, -0.1406]]]], device='cuda:0')"
      ]
     },
     "execution_count": 24,
     "metadata": {},
     "output_type": "execute_result"
    }
   ],
   "source": [
    "model.conv0.weight.data"
   ]
  },
  {
   "cell_type": "code",
   "execution_count": 25,
   "metadata": {},
   "outputs": [
    {
     "data": {
      "text/plain": [
       "tensor([[[[-0.0195, -0.0098, -0.0938],\n",
       "          [ 0.0508, -0.1348, -0.0469],\n",
       "          [ 0.0879,  0.2207,  0.0527]],\n",
       "\n",
       "         [[-0.0801,  0.0195, -0.0293],\n",
       "          [ 0.0898,  0.0254,  0.0898],\n",
       "          [ 0.2207, -0.0957, -0.0039]]],\n",
       "\n",
       "\n",
       "        [[[ 0.0547,  0.0000, -0.0156],\n",
       "          [-0.2070, -0.2012, -0.2109],\n",
       "          [-0.2305, -0.2207, -0.1758]],\n",
       "\n",
       "         [[-0.2109, -0.2188,  0.1035],\n",
       "          [ 0.1465,  0.1582,  0.1270],\n",
       "          [ 0.0781,  0.0996, -0.1348]]],\n",
       "\n",
       "\n",
       "        [[[ 0.2031, -0.0234,  0.1973],\n",
       "          [ 0.0664,  0.1816,  0.1816],\n",
       "          [-0.0469, -0.0684,  0.0332]],\n",
       "\n",
       "         [[-0.0117,  0.0293,  0.1172],\n",
       "          [-0.1875, -0.0137, -0.1875],\n",
       "          [ 0.2266, -0.1660,  0.0410]]],\n",
       "\n",
       "\n",
       "        ...,\n",
       "\n",
       "\n",
       "        [[[-0.0566,  0.0469, -0.0488],\n",
       "          [-0.0566, -0.0859,  0.1328],\n",
       "          [-0.1562,  0.1445,  0.1367]],\n",
       "\n",
       "         [[-0.0469,  0.2051,  0.1602],\n",
       "          [ 0.0371,  0.2402,  0.0938],\n",
       "          [-0.0605,  0.1758,  0.0977]]],\n",
       "\n",
       "\n",
       "        [[[ 0.1328,  0.0898,  0.0957],\n",
       "          [ 0.1484,  0.2305,  0.2012],\n",
       "          [ 0.0605, -0.1367, -0.1973]],\n",
       "\n",
       "         [[-0.2188,  0.1445,  0.0840],\n",
       "          [ 0.1719,  0.1641, -0.1465],\n",
       "          [ 0.0977,  0.0195, -0.1426]]],\n",
       "\n",
       "\n",
       "        [[[ 0.0547, -0.2148, -0.0234],\n",
       "          [ 0.2051,  0.0312, -0.0918],\n",
       "          [ 0.1719,  0.0781, -0.1660]],\n",
       "\n",
       "         [[-0.0449,  0.2070, -0.0293],\n",
       "          [-0.1328, -0.1172, -0.1270],\n",
       "          [-0.1914,  0.1992, -0.1406]]]], device='cuda:0')"
      ]
     },
     "execution_count": 25,
     "metadata": {},
     "output_type": "execute_result"
    }
   ],
   "source": [
    "model_new.conv0.weight.data"
   ]
  },
  {
   "cell_type": "code",
   "execution_count": 26,
   "metadata": {},
   "outputs": [
    {
     "data": {
      "text/plain": [
       "tensor(10, device='cuda:0')"
      ]
     },
     "execution_count": 26,
     "metadata": {},
     "output_type": "execute_result"
    }
   ],
   "source": [
    "(model.conv0.weight.data != model_new.conv0.weight.data).sum()"
   ]
  },
  {
   "cell_type": "markdown",
   "metadata": {},
   "source": [
    "# Cross Validation (DVS128_Gesture)"
   ]
  },
  {
   "cell_type": "code",
   "execution_count": 27,
   "metadata": {},
   "outputs": [
    {
     "name": "stdout",
     "output_type": "stream",
     "text": [
      "Checking on testing data\n",
      "Got 92/264 with accuracy 34.85\n",
      "Encrypted model Acc: 34.848487854003906% Accuracy\n",
      "Checking on testing data\n",
      "Got 242/264 with accuracy 91.67\n",
      "Float32 model quantized to 8bit Acc: 91.66667175292969% Accuracy\n"
     ]
    }
   ],
   "source": [
    "print(f\"Encrypted model Acc: {check_accuracy(test_loader,model)*100}% Accuracy\")\n",
    "print(f\"Float32 model quantized to 8bit Acc: {check_accuracy(test_loader,model_new)*100}% Accuracy\")"
   ]
  },
  {
   "cell_type": "code",
   "execution_count": 28,
   "metadata": {},
   "outputs": [
    {
     "name": "stdout",
     "output_type": "stream",
     "text": [
      "Checking on testing data\n",
      "Got 242/264 with accuracy 91.67\n",
      "Cross vaildate for recovered Encrypted model Acc: 91.66667175292969% Accuracy\n",
      "Checking on testing data\n",
      "Got 92/264 with accuracy 34.85\n",
      "Cross vaildate for original Encrypted model Acc: 34.848487854003906% Accuracy\n"
     ]
    }
   ],
   "source": [
    "temp = model.conv0.weight.data\n",
    "model.conv0.weight.data = model_new.conv0.weight.data \n",
    "print(f\"Cross vaildate for recovered Encrypted model Acc: {check_accuracy(test_loader,model)*100}% Accuracy\")\n",
    "\n",
    "model.conv0.weight.data = temp\n",
    "print(f\"Cross vaildate for original Encrypted model Acc: {check_accuracy(test_loader,model)*100}% Accuracy\")"
   ]
  },
  {
   "cell_type": "markdown",
   "metadata": {},
   "source": [
    "# Decrypted Model Performance by Classes (DVS128_Gesture)"
   ]
  },
  {
   "cell_type": "code",
   "execution_count": 29,
   "metadata": {},
   "outputs": [
    {
     "name": "stdout",
     "output_type": "stream",
     "text": [
      "Got 24/24 with accuracy 100.00\n",
      "Got 24/24 with accuracy 100.00\n",
      "Got 24/24 with accuracy 100.00\n",
      "Got 0/24 with accuracy 0.00\n",
      "Got 0/24 with accuracy 0.00\n",
      "Got 0/24 with accuracy 0.00\n",
      "Got 0/24 with accuracy 0.00\n",
      "Got 0/24 with accuracy 0.00\n",
      "Got 0/24 with accuracy 0.00\n",
      "Got 14/24 with accuracy 58.33\n",
      "Got 6/24 with accuracy 25.00\n"
     ]
    }
   ],
   "source": [
    "_ , test_loader = choose_dataset(target=\"DVS128_Gesture\",batch_size=1,T_BIN=15,dataset_path='/home/edwin/code/dataset/')\n",
    "\n",
    "num_correct_0 = 0\n",
    "num_correct_1 = 0\n",
    "num_correct_2 = 0\n",
    "num_correct_3 = 0\n",
    "num_correct_4 = 0\n",
    "num_correct_5 = 0\n",
    "num_correct_6 = 0\n",
    "num_correct_7 = 0\n",
    "num_correct_8 = 0\n",
    "num_correct_9 = 0\n",
    "num_correct_10 = 0\n",
    "\n",
    "num_sample_0 = 0\n",
    "num_sample_1 = 0\n",
    "num_sample_2 = 0\n",
    "num_sample_3 = 0\n",
    "num_sample_4 = 0\n",
    "num_sample_5 = 0\n",
    "num_sample_6 = 0\n",
    "num_sample_7 = 0\n",
    "num_sample_8 = 0\n",
    "num_sample_9 = 0\n",
    "num_sample_10 = 0\n",
    "\n",
    "model.eval()  \n",
    "with torch.no_grad():\n",
    "    for inputs, labels in test_loader:\n",
    "\n",
    "        inputs = inputs.to(device)\n",
    "        labels = labels.to(device)\n",
    "\n",
    "        out_firing = model(inputs)\n",
    "        _ , prediction = out_firing.max(1)  \n",
    "        correct = (prediction == labels).sum()\n",
    "\n",
    "        if labels == 0:\n",
    "            num_sample_0  +=1\n",
    "            num_correct_0 +=correct\n",
    "        \n",
    "        elif labels == 1:\n",
    "            num_sample_1  +=1\n",
    "            num_correct_1 +=correct\n",
    "\n",
    "        elif labels == 2:\n",
    "            num_sample_2  +=1\n",
    "            num_correct_2 +=correct\n",
    "\n",
    "        elif labels == 3:\n",
    "            num_sample_3  +=1\n",
    "            num_correct_3 +=correct\n",
    "\n",
    "        elif labels == 4:\n",
    "            num_sample_4  +=1\n",
    "            num_correct_4 +=correct\n",
    "\n",
    "        elif labels == 5:\n",
    "            num_sample_5  +=1\n",
    "            num_correct_5 +=correct\n",
    "\n",
    "        elif labels == 6:\n",
    "            num_sample_6  +=1\n",
    "            num_correct_6 +=correct\n",
    "\n",
    "        elif labels == 7:\n",
    "            num_sample_7  +=1\n",
    "            num_correct_7 +=correct\n",
    "\n",
    "        elif labels == 8:\n",
    "            num_sample_8  +=1\n",
    "            num_correct_8 +=correct\n",
    "\n",
    "        elif labels == 9:\n",
    "            num_sample_9  +=1\n",
    "            num_correct_9 +=correct\n",
    "\n",
    "        elif labels == 10:\n",
    "            num_sample_10  +=1\n",
    "            num_correct_10 +=correct\n",
    "\n",
    "        else:\n",
    "            print(\"Error, out of bounds\")\n",
    "\n",
    "    print(f'Got {num_correct_0}/{num_sample_0} with accuracy {float(num_correct_0)/float(num_sample_0)*100:.2f}')\n",
    "    print(f'Got {num_correct_1}/{num_sample_1} with accuracy {float(num_correct_1)/float(num_sample_1)*100:.2f}')\n",
    "    print(f'Got {num_correct_2}/{num_sample_2} with accuracy {float(num_correct_2)/float(num_sample_2)*100:.2f}')\n",
    "    print(f'Got {num_correct_3}/{num_sample_3} with accuracy {float(num_correct_3)/float(num_sample_3)*100:.2f}')\n",
    "    print(f'Got {num_correct_4}/{num_sample_4} with accuracy {float(num_correct_4)/float(num_sample_4)*100:.2f}')\n",
    "    print(f'Got {num_correct_5}/{num_sample_5} with accuracy {float(num_correct_5)/float(num_sample_5)*100:.2f}')\n",
    "    print(f'Got {num_correct_6}/{num_sample_6} with accuracy {float(num_correct_6)/float(num_sample_6)*100:.2f}')\n",
    "    print(f'Got {num_correct_7}/{num_sample_7} with accuracy {float(num_correct_7)/float(num_sample_7)*100:.2f}')\n",
    "    print(f'Got {num_correct_8}/{num_sample_8} with accuracy {float(num_correct_8)/float(num_sample_8)*100:.2f}')\n",
    "    print(f'Got {num_correct_9}/{num_sample_9} with accuracy {float(num_correct_9)/float(num_sample_9)*100:.2f}')\n",
    "    print(f'Got {num_correct_10}/{num_sample_10} with accuracy {float(num_correct_10)/float(num_sample_10)*100:.2f}')"
   ]
  },
  {
   "cell_type": "code",
   "execution_count": null,
   "metadata": {},
   "outputs": [],
   "source": []
  }
 ],
 "metadata": {
  "kernelspec": {
   "display_name": "SNN_env",
   "language": "python",
   "name": "python3"
  },
  "language_info": {
   "codemirror_mode": {
    "name": "ipython",
    "version": 3
   },
   "file_extension": ".py",
   "mimetype": "text/x-python",
   "name": "python",
   "nbconvert_exporter": "python",
   "pygments_lexer": "ipython3",
   "version": "3.9.16"
  }
 },
 "nbformat": 4,
 "nbformat_minor": 2
}
